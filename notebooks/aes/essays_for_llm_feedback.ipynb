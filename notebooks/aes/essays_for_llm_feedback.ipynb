{
  "nbformat": 4,
  "nbformat_minor": 0,
  "metadata": {
    "colab": {
      "provenance": []
    },
    "kernelspec": {
      "name": "python3",
      "display_name": "Python 3"
    },
    "language_info": {
      "name": "python"
    }
  },
  "cells": [
    {
      "cell_type": "code",
      "execution_count": null,
      "metadata": {
        "id": "7wVAogZ2l9BF"
      },
      "outputs": [],
      "source": [
        "import pandas as pd"
      ]
    },
    {
      "cell_type": "code",
      "source": [
        "df = pd.read_csv('/content/data.csv')"
      ],
      "metadata": {
        "id": "ruaMFK20mqlZ"
      },
      "execution_count": null,
      "outputs": []
    },
    {
      "cell_type": "code",
      "source": [
        "# good\n",
        "for row, column in df[df['Overall'] == 5.0].sample(4, random_state=42).iterrows():\n",
        "  print(column['full_text'] + '\\n\\n\\n\\n\\n')"
      ],
      "metadata": {
        "colab": {
          "base_uri": "https://localhost:8080/"
        },
        "id": "A0329D4umuL9",
        "outputId": "4e166397-b371-4472-a262-62e36d2a3f65"
      },
      "execution_count": null,
      "outputs": [
        {
          "output_type": "stream",
          "name": "stdout",
          "text": [
            "Students should not be allowed to graduate high school a year early, as this will cause students to only have a lack of free time and enjoyment of being in high school. They will have to give up their summer vacations, and even their evening time because of the courses they have to take. The students will miss out on taking electives, as well as missing out on valuable high school experience by being forced to grow up a year early.\n",
            "\n",
            "With only doing three years in high school, it prevents teenagers from having free time. With the three years only, there is no free time for elective courses. All of the important classes have to fit in one tight schedule in order to maintain and pass all the requirements needed to graduate. I mean at least since you won't have electives you will have more time catching up on your mandatory classes. The lack of electives and and the three year plan, can cause stress and anxiety that prevents teenagers from achieving their full potential. Additionally, the students will lack the amount of volunteer hours and extracurriculars that other students will have through a regular graduation program. The lack of extra activities will prevent students from getting into good colleges, because they will be to focused on school to be able to do anything else.\n",
            "\n",
            "Doing a three year program means you have to give up summer vacations and evening plans. You will have to take classes over the summer and at night. As a result their will be no more \"summer\"\n",
            "\n",
            "for the students. Instead they are working throughout the year trying to get everything they need done first in order to graduate and receive their credits. In order to get classes during the night time, students would have to find a way of transportation. The county will be paying also more money for teachers. Driving to school would result in students spending money on the increasing price of gas. Spending money would also extend to paying teachers for their extra teaching hours. High school in the three year program would result in spending lots of excess money and increase complications in students' lives.\n",
            "\n",
            "Many students wish to pursue a three year high school program allowing them to graduate early. They want to do that because, they have a specific reason. Some students have families that need their children's ability to work, to help provide for the family. Therefore, a three year high school program appeals to the child so they may help support their family. Other families may need the childcare because they have younger siblings, and their parents work multiple jobs. However, a three year program leaves very little time to actually work during the program and can impact the overall success of the student. Many schools have work programs actually connected to the school, so that students can work while still maintaining their studies. However, a four year program is much better suited to the teenage mind, desires, and overall life.\n",
            "\n",
            "A three year graduation program prevents a teenager from being able to enjoy their high school experience. By graduating a year earlier, their childhood years are taken away as they're thrown into adulthood earlier. Along with missing out on more childhood experience, they lose social aspects for their years. This includes friendships, being able to volunteering, as well as activities. The program can also take a toll on the student by piling on extra work as well as taking a toll on other people, such as teachers and parents. Overall you should always do your research before committing to the program in order to make sure it will be beneficial. \n",
            "\n",
            "\n",
            "\n",
            "\n",
            "\n",
            "A single persons actions can change how other people act. Albert Schweitzer, a philosopher said, \"Example is not the main thing in influencing others; it is the only thing\". I agree with his statement and believe it as true, as most people look up to and copy whoever is currently popular on social media. People also like to follow the example of what they are taught, by parents or teachers. In this essay, i'll be talking about how setting an example for others is the best way to influence others into doing something.\n",
            "\n",
            "First of all, Watching someone do something that interests you could influence you into doing the same. For example: if you like food and you watch someone cook, it could possibly persuade you into making your own food. Most of the time, people would not do something without being influenced or persuaded by someone else. Take Juuling for example, most kids would never do such a thing unless being persuaded or peer pressured by their friends.\n",
            "\n",
            "Secondly, Teaching someone to do good by an example is also good, as it sets them down a good path, just as most parents do. A person cant do something they were never taught or ever learned, so they look to other people who can do things; and look up to them. Only by setting an example can others follow. Much like a pack of wolves, the leader sets an example and rest follow it.\n",
            "\n",
            "It could be argued that a speech or something of the sort could also influence people, such as Martin Luther King Jr's \"I Have A Dream\" speech. In the past that might have been the best way to influence people, but in modern day society a majority of people are influenced by action and examples. Otherwise, why would kids be doing these \"Challenges\" that you hear on the news every other day?\n",
            "\n",
            "In conclusion, Examples are the best and most effective way to influence others into doing things. By setting examples, people are influenced into doing all sorts of things. Whether they are good or bad is completely subjective and depends on what the person is influenced into doing.                                                                                                                                                                                                           \n",
            "\n",
            "\n",
            "\n",
            "\n",
            "\n",
            "Online Learning\n",
            "\n",
            "Who doesn't want to be left in the house all day using an electronic device with online access? Although students save money and time by taking classes from home. It is not beneficial to learn online because students lose focus of what they are learning and tend to easily get distracted when they're in their house, students can't have a one on one conversation with a teacher nor discuss with classmates, and students could also face technical difficulties when attending online classes from home.\n",
            "\n",
            "Losing focus has a big impact in learning. For example, my friend Generic_Name sent me a text message last month, right when I started studying for my history mid-term exam. I responded back to Generic_Name's text, and without realizing we kept on messaging past midnight. This shows how easily students get distracted at home with a cellular device and how easy it is to lose focus. The next morning I decided to get to school an hour early and review one on one with my teacher.\n",
            "\n",
            "Secondly, taking classes online doesn't just mean you don't have a physical teacher or instructor that you can question lively, but also means that it will be challenging to find answers to your questions. I remember in my sophomore year a kid in our econ class named Generic_Name was really sick for a while so he had ended up taking classes online. Generic_Name was a straight A student, always was first to answer the teachers questions and he also used to ask questions. Thankfully Generic_Name healed towards the end of the year and I asked him if he benefited and if he recommends attending classes from home. The straight A student Generic_Name said it was a real challenge to take the class online and he finished the class a month after he should have with a B- average. Generic_Name had also said that one of the most difficult parts about attending a class online was his laptop not functioning at all times, and not having a teacher you can talk and converse with one on one.\n",
            "\n",
            "Finally, using your personal computer and internet connection can always be an issue. You can't always depend on your computer, not just the computers but even people aren't perfect. Another main problem Generic_Name had when attending classes online was his laptop and network connection. Generic_Name explained that he always faced technical difficulties. When his laptop wasn't functioning right, the only thing he could do was to stop the lesson and wait for his dad to get the laptop repaired, which took time. Each month, either his laptop or internet connection would not cooperate, so he finished the class a month later than everyone.\n",
            "\n",
            "In conclusion, Everyone would like to save money and time by taking classes from home. But getting distracted, not asking your teacher questions when you need to, and wasting money on laptop repair is not worth it at all. Learning from a far distance could also be an option but when asking if it is beneficial, we can say that it is not by looking at the listed reasoning.    \n",
            "\n",
            "\n",
            "\n",
            "\n",
            "\n",
            "Dear School board,\n",
            "\n",
            "Why does a student's education matter? To me, it is extremely important because it can affect them for their entire life in positive or in negative ways. It could lead them to a job with a seven figure salary, or to work a part-time job at a fast food restaurant making minimum wage. What's also important to me is the learning experience. I believe learning should be fun, interesting, and not stressful for students. That's why I agree with the school board's plan to extend the school day by one and a half hours, because that way, students wouldn't feel rushed and would have more time to learn, teacher will have more time to teach and using new ways, and the school year would be a little shorter.\n",
            "\n",
            "To begin with, I agree with the school board to extend the school day because students wouldn't feel rushed and they would have more time to learn. Right now, each of our periods are only about 50 minutes, which I think really isn't a lot of time to learn once you start working. If one and a half hours is added to the current school day, we would have at least an hour for each class. This way, the students would have more time to complete projects, assignments, or just have more time to really understand the subject without feeling rushed. I know this because right now, I am working on a project in science class that we only have two class periods to finish, which totals for just about one and a half hours! I am not saying that a little push isn't necessary or beneficial, but the extra time would definitely boost the quality of the student's work at our school without rushing them.\n",
            "\n",
            "Secondly, I think the school board should increase the school day by one and a half hours because that will let teachers have more time to teach, while using unique ways to do so. With the students having more time to learn, the teachers could potentially also have more time to actually create a better learning experience. Extending the day ensures that teachers would be able to thoroughly explain new concepts and materials, while also teaching using better or more effective methods that wouldn't have been possible because of the shortage of time. For instance, sometimes we have educational scavenger hunts, where the teacher lays the information throughout the campus and we would have to find them. The issue is, we've never been able to finish, not because it wasn't possible to, but because there simply wasn't enough time. Those kinds of educational activities are, in my opinion, very fun, but it's also effective. So if we have more time, I am sure that some teachers would plan and teach more using different ways which are beneficial to both the student and the teacher.\n",
            "\n",
            "Lastly, the school board's plan to extend one and a half hours to the school day is something I strongly concur with because school will be out earlier in the summer. While I do enjoy school very much, I think summer break is something that everyone looks forward to. The days that are cut down because of the increased time allows students to attend more activities and spend more time together with their families. Even though the students aren't at school, they could still be learning something new on their own. For example, they could be learning how to play an instrument, training for sports, or learning how to speak another language, which are all very helpful for them. Also, the teachers could be attending conferences which let's them collaborate with other teachers on creating newer and more efficient methods to teach, which will help everyone in the long run.\n",
            "\n",
            "In conclusion, the reasons why I agree with the school board to extend the hours are because students wouldn't feel rushed, teachers would have more time to teach in unique ways, and school will be out sooner in the summer. Although I think there are many more reasons why the school day should be longer, those are the main ones. There are just so many benefits that this extended time would create; possibly having an effect on the entire community. This is not an immense amount of change but it can be a big success, which is why I think you should really consider extending the school hours.\n",
            "\n",
            "Sincerely,\n",
            "\n",
            "Generic_Name\n",
            "\n",
            "\n",
            "\n",
            "\n",
            "\n"
          ]
        }
      ]
    },
    {
      "cell_type": "code",
      "source": [
        "# mid\n",
        "for row, column in df[df['Overall'] == 3.0].sample(3, random_state=42).iterrows():\n",
        "  print(column['full_text'] + '\\n\\n\\n\\n\\n')"
      ],
      "metadata": {
        "colab": {
          "base_uri": "https://localhost:8080/"
        },
        "id": "l8A21Dagno6j",
        "outputId": "6923a50a-b825-49fe-86c6-a3c1929782c4"
      },
      "execution_count": null,
      "outputs": [
        {
          "output_type": "stream",
          "name": "stdout",
          "text": [
            "I think that the principal should allow students to bring phones to school and use them during lunch periods and other free times, as long as the phones are turned off during class time.\n",
            "\n",
            "I think that the principal should let students bring there phones to school, because student need some times there phones to call home for a ride home or some others reasons. Then, If they don't have there phone with them is going to be hard for them to get home, or they may need there phone for and emergency to call for help . Then, if they don't have there phone whit theme is going to be hard to call for help.\n",
            "\n",
            "That's why think that the principal should let students bring there phones to school incase they need there phone for and emergency call, so if they have there phones whit theme they can use there phones.\n",
            "\n",
            "\n",
            "\n",
            "\n",
            "\n",
            "John Lubbock said that \"Your character will be what you yourself choose to make it\". Many people would disagree or agree. People do choose their own character traits by the things they do and not others. It is influenced by their decision making and environment they choose to be around with and in\n",
            "\n",
            "People do find it hard to make the right decision and sometimes they pick the wrong decision. People need to understand that their decision making is what messes up their character traits. If someone would to always make the bad decision, then they will keep repeating it. For example, someone is going to rob this store or go steal someones money at school, the decisions they are making will affect them and they will never change and keep on doing the same thing. People need to realize what they are doing is bad and it will affect there character traits.\n",
            "\n",
            "The environment we choose to be surrounded with is what also affects us and our character trait. From decision making to environment not a lot changes. If some of your friends decide to skip school, they will peer pressure you into doing it. When you are hanging with the group of people they could really affect the view on what other people have and even though you may not be doing the bad thing they are doing, they will surely think that you have the same type of character traits as your other friends that you choose to be around with.\n",
            "\n",
            "Although we do affect our character traits, there is character formed by other influences beyond our control. For example, if there is family problems at home or you are feeling alone, there is really nothing you can do because you have no one to talk to about your situation and may be doing things differently. There is certain things you can't escape and it's to deal with things at home or at other places. People often feel affected by what's going on and can't do anything about it because they have no one to go to. But they still should be careful on who the people they should go on and talk to about the things they are going through and the things that are affecting them differently.\n",
            "\n",
            "Again, many people may agree or disagree with if we choose our character traits or not. People still should be careful if they ever judge someone by their trials, although they might not be making the right decisions, you should never judge a book by it's cover and find out who they really are. Even though we do have poor decision making and choose the environment we want to be in, everyone is still unique in their own character trait.\n",
            "\n",
            "\n",
            "\n",
            "\n",
            "\n",
            "I agree that they should do the activity Because it can show the teachers of what you know about if you participate. So they dont't repeat it more then once. Like let's say there was a game that a teacher put at the smart board and you need to participate to play. That can also help you review of what you don't understand. To pass your SOL is to review everything we discuss about. When you participate it's also showing the teachers that you already know everything and what you know about and it's also showing that you been following the directions and paying attention in class. It helps students learn fast in other ways. Students can learn fast sometimes when you participate. I once participate like every time in math but once I kept doing it until I understand everything and then I get better and better that no student don't have to complain about it any problem that we don't understand about it. I understand people do not like it but it is what it is. Like my brother never participate but he is no matter what they would say to him that he needs to participate for his grades.\n",
            "\n",
            "I disagree I guess because people don't like to participate like they can be nervous sometimes and they just don't feel like it. Like sometimes people be shy and are scared. Because when the teacher calls out there name they have to stand up and participate and there scared because they dont know the answer and there like standing up there knowing nothing which makes them feel like there going to say \"i don't know\". Some students want to participate because they know what to answer the question. some do not because they be shy, nervous, and scared. But I was thinking why not participate when we want to. Because people be uncomfterabe like students sometimes be lazy that they do not wanna participate on anything they want or have too and they sometime be stressed about it I sometimes see them having an attitude but I don't know what's up with them but my countselor told me to focus and I alsways be tryig to focus and my old best friend said it was stupid for just trying to get your grades up but not focused on my friends but to be honest grades are much more important and that is why I always go traight to class.\n",
            "\n",
            "Like we need to participate there is no other choice because that help us learn but I agree because students need too get use to talking in front of everyone. Like I know where shy, nervous, scared, and uncomfterable but I Know we'll get use to that. Because high school is different and I know we'll do that in school so obviously I'm a get use too it. Like writing a speech I know that could be nervous becuase you need to make one and it could be long. but reading in front of everyone is fine everyone does it. I once was scared until I know everyone I didn't feel nervous or anything. I know people don't like to paticipate because there lazy or maybe because there tired and nervous I get now why people don't wanna participate on anything else now.\n",
            "\n",
            "I guess once you know everyone and friends with them your not like nervous anymore or anything like your comfterable with them because you know them I mean that happen to me. I'm just friends with all my classmates and not even afraid to stand up and say something I'm guessing get use to what your afraid of then you don't have to worry no more and just speak up and finally participate. Of what you know and of what the teacher show you to pass your SOL. Students go to school to learn to learn of what you do not know but want to know once you grow up. When my mom was a thirteen she didn't went to school and now I go to school and I wanna tell her everything so she knows too. When my dad was thirteen he didn't went to school either because my gandma did not have enough money to pay for my parents but now I go to school and I wanna learn something that could happen here on this earth like I wanna know more about this earth something intresting. Like the coronavirus that's in va right now I wanna know more about it to help my family get through it.\n",
            "\n",
            "I agree with this that people should participate on anything rather there scared or not I agree. Because students should learn once they participate like the game on the smart board. Once I participated on math class and answer my teachers questions that I kept messing up because I didn't know but I wasn't nervous I asked a question or kept trying to get the answer even though I try to guess to get an answer. My parents really want me to have a A in all my classes. I see some students that doesn't wanna work in any classes and they don't want to participate because they don't know and because they don't wanna learn anything like my best friend she does not want me too teach her of what I know. Like all she does is talking with boys and boys but what's important right now is the grades so i can get my dream job and have a nice life with my family and friends and most importantly is not going back to a grade that your in right now and like I been participating since I was a kid in elementary school. I'm here to learn and help my family after the coronavirus my mom is scared so am I because I'm afraid that I'm a die they say coronavirus can kill you and now I wanna learn more about it like maybe read more books about it and find some more definitions about it to let my family and friends know what does it do and what causes it. I agree that they should do the activity to get a good grade and if not participate then you won't be able to pass and move on to learn something new grades are important so I say yes to do the activity even if it's hard we'll keep trying it to finish and to pass and get a A in every class like science we have to do a project then we need to do it in order to know and have a A in that class and the rest the same thing like almost all the classes are like the same which we might do a lot in high school.\n",
            "\n",
            "\n",
            "\n",
            "\n",
            "\n"
          ]
        }
      ]
    },
    {
      "cell_type": "code",
      "source": [
        "# bad\n",
        "for row, column in df[df['Overall'] == 1.0].sample(3, random_state=42).iterrows():\n",
        "  print(column['full_text'] + '\\n\\n\\n\\n\\n')"
      ],
      "metadata": {
        "colab": {
          "base_uri": "https://localhost:8080/"
        },
        "id": "tpcKOtgBn1BL",
        "outputId": "22c5b128-08ca-4934-e2e7-1dcb4fefafb1"
      },
      "execution_count": null,
      "outputs": [
        {
          "output_type": "stream",
          "name": "stdout",
          "text": [
            "he is a good because they are the prescient and us. now the are more procession a other prescient and us. because and the more many education for student and school. the more school for one because he have a one women the have many education for a other because the good more the one is information for access because is not like the brazen giant of Greek fame with conquering one nation for is the imprison the eyes command the one book for people the us give more your lied your huddled Farmer with silent lips the more the one is for you because the are a one solution for you and a other people he have a more the one solution for you here ancient lands your storied pound Aries she with silent lips pledge of a in order people he have a education\n",
            "\n",
            "Do we accomplish more the if we are always doing something or does inactivity also serve a purpose take a position on this for you and specific examples. take a position for you because the are a never much may be a always how many I planned and my people he have the on the right to ported and the after type your response in the space. than new colossus for the more have a one they solution for is came one o two people the same time. because the more that in and here name norther of Exiles form her barmen the are one sous ion. \n",
            "\n",
            "\n",
            "\n",
            "\n",
            "\n",
            "my name is Generic_Name and my story is about cars\n",
            "\n",
            "I bay a car and it new i live that car so mush so i stirt taking caer to it and befor I usto have a buskel and i usto love that baskel so mauh but i gat older so i stop riding a biskel and i stirt looking for a beges thengs whan i was a kid i usto so my dad driveng a car and i usto haveng fun in it\n",
            "\n",
            ";and my drimm was to bay a car win i gro up and i stil looking for that drimm seccer is the only sport i like i use to play seccer win i weas 11 years old and i stil play that geame and i love it so mush but my lieg get hert so i stop playing it any moer and then i stirt fling better so i want to go bake to play my favert game seccer so i try ot for school and i stirt making frinds and play with them my favert game evry day i even like a gril becoes that game so l like that gril and i stirt playing wiht her and taking wihe her and i wanted her number so i stirt beang cloes to her so it bean a year so i finly say it i told her that i love her and she say yes and she my grilfrind new so this year im in 11 grad and i play sceer for Generic_School and it coold but we have to phet so we can get bater so it ban 3years whan the last time i see my dad and mom becase thay stiy back ther in my cantery ariq and i relly weant them to be besid me in USA\n",
            "\n",
            "and about my life i have 2brthers and 1 sister.\n",
            "\n",
            "\n",
            "\n",
            "\n",
            "\n",
            "Policy 2: Do not allow students to have phones at all. I like this own because if students is in class room in take a test someone cal for him and he is forget what hi is steady about his test maybe he is confused about his test and he is fail in his test .I thing it is own big problem in school about this thing in school not allot phone and hi pot.\n",
            "\n",
            "\n",
            "\n",
            "\n",
            "\n"
          ]
        }
      ]
    }
  ]
}